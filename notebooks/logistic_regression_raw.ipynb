{
 "cells": [
  {
   "cell_type": "markdown",
   "metadata": {
    "collapsed": true
   },
   "source": [
    "# Logistic Regression\n",
    "\n",
    "Example that explains the logistic regression ideas.\n",
    "\n",
    "In this example we'll be using\n",
    "\n",
    "* `NumPy`\n",
    "* `pandas`\n",
    "* `matplotlib`"
   ]
  },
  {
   "cell_type": "code",
   "execution_count": 1,
   "metadata": {},
   "outputs": [],
   "source": [
    "import numpy as np\n",
    "import matplotlib.pyplot as plt\n",
    "import pandas as pd\n",
    "import requests\n",
    "import io\n",
    "\n",
    "%matplotlib inline"
   ]
  },
  {
   "cell_type": "markdown",
   "metadata": {},
   "source": [
    "Let's read the dataset first. It was taken from [Andrew Ng’s Machine Learning course on Coursera](https://github.com/animesh-agarwal/Machine-Learning/blob/master/LogisticRegression/data/marks.txt).\n",
    "\n",
    "It contains marks of two exams for 100 applicants. The target value take `0` or `1` (was applicant admitted or not)"
   ]
  },
  {
   "cell_type": "code",
   "execution_count": 2,
   "metadata": {},
   "outputs": [
    {
     "data": {
      "text/html": [
       "<div>\n",
       "<style scoped>\n",
       "    .dataframe tbody tr th:only-of-type {\n",
       "        vertical-align: middle;\n",
       "    }\n",
       "\n",
       "    .dataframe tbody tr th {\n",
       "        vertical-align: top;\n",
       "    }\n",
       "\n",
       "    .dataframe thead th {\n",
       "        text-align: right;\n",
       "    }\n",
       "</style>\n",
       "<table border=\"1\" class=\"dataframe\">\n",
       "  <thead>\n",
       "    <tr style=\"text-align: right;\">\n",
       "      <th></th>\n",
       "      <th>0</th>\n",
       "      <th>1</th>\n",
       "      <th>2</th>\n",
       "    </tr>\n",
       "  </thead>\n",
       "  <tbody>\n",
       "    <tr>\n",
       "      <th>0</th>\n",
       "      <td>34.623660</td>\n",
       "      <td>78.024693</td>\n",
       "      <td>0</td>\n",
       "    </tr>\n",
       "    <tr>\n",
       "      <th>1</th>\n",
       "      <td>30.286711</td>\n",
       "      <td>43.894998</td>\n",
       "      <td>0</td>\n",
       "    </tr>\n",
       "    <tr>\n",
       "      <th>2</th>\n",
       "      <td>35.847409</td>\n",
       "      <td>72.902198</td>\n",
       "      <td>0</td>\n",
       "    </tr>\n",
       "    <tr>\n",
       "      <th>3</th>\n",
       "      <td>60.182599</td>\n",
       "      <td>86.308552</td>\n",
       "      <td>1</td>\n",
       "    </tr>\n",
       "    <tr>\n",
       "      <th>4</th>\n",
       "      <td>79.032736</td>\n",
       "      <td>75.344376</td>\n",
       "      <td>1</td>\n",
       "    </tr>\n",
       "  </tbody>\n",
       "</table>\n",
       "</div>"
      ],
      "text/plain": [
       "<div>\n",
       "<style scoped>\n",
       "    .dataframe tbody tr th:only-of-type {\n",
       "        vertical-align: middle;\n",
       "    }\n",
       "\n",
       "    .dataframe tbody tr th {\n",
       "        vertical-align: top;\n",
       "    }\n",
       "\n",
       "    .dataframe thead th {\n",
       "        text-align: right;\n",
       "    }\n",
       "</style>\n",
       "<table border=\"1\" class=\"dataframe\">\n",
       "  <thead>\n",
       "    <tr style=\"text-align: right;\">\n",
       "      <th></th>\n",
       "      <th>0</th>\n",
       "      <th>1</th>\n",
       "      <th>2</th>\n",
       "    </tr>\n",
       "  </thead>\n",
       "  <tbody>\n",
       "    <tr>\n",
       "      <th>0</th>\n",
       "      <td>34.623660</td>\n",
       "      <td>78.024693</td>\n",
       "      <td>0</td>\n",
       "    </tr>\n",
       "    <tr>\n",
       "      <th>1</th>\n",
       "      <td>30.286711</td>\n",
       "      <td>43.894998</td>\n",
       "      <td>0</td>\n",
       "    </tr>\n",
       "    <tr>\n",
       "      <th>2</th>\n",
       "      <td>35.847409</td>\n",
       "      <td>72.902198</td>\n",
       "      <td>0</td>\n",
       "    </tr>\n",
       "    <tr>\n",
       "      <th>3</th>\n",
       "      <td>60.182599</td>\n",
       "      <td>86.308552</td>\n",
       "      <td>1</td>\n",
       "    </tr>\n",
       "    <tr>\n",
       "      <th>4</th>\n",
       "      <td>79.032736</td>\n",
       "      <td>75.344376</td>\n",
       "      <td>1</td>\n",
       "    </tr>\n",
       "  </tbody>\n",
       "</table>\n",
       "</div>"
      ]
     },
     "execution_count": 2,
     "metadata": {},
     "output_type": "execute_result"
    }
   ],
   "source": [
    "url = \"https://raw.githubusercontent.com/animesh-agarwal/Machine-Learning/master/LogisticRegression/data/marks.txt\"\n",
    "content = requests.get(url).content\n",
    "\n",
    "data = pd.read_csv(io.StringIO(content.decode('utf-8')), header=None)\n",
    "data.head()"
   ]
  },
  {
   "cell_type": "markdown",
   "metadata": {},
   "source": [
    "Let's separate features from target labels. And then try to visualize two classes of applicants"
   ]
  },
  {
   "cell_type": "code",
   "execution_count": 3,
   "metadata": {},
   "outputs": [
    {
     "data": {
      "text/plain": [
       "<matplotlib.legend.Legend at 0x7f61cbbf86d8>"
      ]
     },
     "execution_count": 3,
     "metadata": {},
     "output_type": "execute_result"
    },
    {
     "data": {
      "image/png": "[encoded data removed]",
      "text/plain": [
       "<Figure size 432x288 with 1 Axes>"
      ]
     },
     "metadata": {},
     "output_type": "display_data"
    }
   ],
   "source": [
    "X = data.iloc[:, :-1]\n",
    "y_label = data.iloc[:, -1]\n",
    "\n",
    "admitted = data.loc[y_label == 1]\n",
    "not_admitted = data.loc[y_label == 0]\n",
    "\n",
    "plt.scatter(admitted.iloc[:, 0], admitted.iloc[:, 1], s=10, label='Admitted')\n",
    "plt.scatter(not_admitted.iloc[:, 0], not_admitted.iloc[:, 1], s=10, label='Not Admitted')\n",
    "plt.legend()\n"
   ]
  },
  {
   "cell_type": "markdown",
   "metadata": {},
   "source": [
    "## What is logistic regression?\n",
    "\n",
    "First of all, we make a suggestion that probability of event $$y = 1$$\n",
    "\n",
    "$$P\\{y = 1 | x\\} = f(h)$$\n",
    "\n",
    "From linear regression task we know that\n",
    "\n",
    "$$h(x)=h(x)=\\Theta^Tx$$\n",
    "\n",
    "What is `f(h)`?\n",
    "\n",
    "This is sigmoid function applied to the result\n",
    "\n",
    "$$f(h) = \\frac{1}{1 + e^{-h}}$$\n",
    "\n",
    "`y` can take only 0 or 1. So, the probability for 0 will be\n",
    "\n",
    "$$P\\{y = 0 | x\\} = 1 - f(h)$$.\n",
    "\n",
    "In the consequences it can be written as\n",
    "\n",
    "$$P\\{y | x\\} = f(h)^y(1 - f(h))^{(1 - y)}$$\n",
    "\n",
    "That is Bernoulli distribution.\n",
    "\n",
    "We need to find\n",
    "\n",
    "$$\\hat{\\Theta }=argmax_{\\Theta }L(\\Theta) = \\prod_{i=1}^{m}P\\{y=y^{(i)} | x=x^{(i)}\\}$$\n",
    "\n",
    "Maximisation of likelihood function is equivalent to maximisation of its logarithm\n",
    "\n",
    "$$lnL(\\Theta)=\\sum_{i=1}^{m}lnP\\{y=y^{(i)} | x=x^{(i)}\\}=\\sum_{i=1}^{m}y^{(i)}lnf(h) + (1 - y^{(i)})ln(1 - f(h))$$\n",
    "\n",
    "We'll solve this by gradient descend method, so we'll update Theta respectively\n",
    "\n",
    "$$\\Theta := \\Theta + \\alpha \\triangledown lnL(\\Theta)$$"
   ]
  },
  {
   "cell_type": "markdown",
   "metadata": {},
   "source": [
    "Let's create our training sets.\n",
    "\n",
    "## Why do we append the list of ones to `train_x`?\n",
    "\n",
    "So, the formula of line is\n",
    "\n",
    "$$d=\\Theta_0 + \\Theta_1x_1 + \\Theta_2x_2$$\n",
    "\n",
    "Theta with index 0 corresponds to interception with `y`. So, we prepend column of ones to features set for convenience in matrix computations."
   ]
  },
  {
   "cell_type": "code",
   "execution_count": 4,
   "metadata": {},
   "outputs": [
    {
     "data": {
      "text/plain": [
       "((100, 3), (100, 1))"
      ]
     },
     "execution_count": 4,
     "metadata": {},
     "output_type": "execute_result"
    }
   ],
   "source": [
    "train_x = np.hstack((np.ones(shape=(len(X), 1)), np.array(X)))\n",
    "train_y = np.array(y_label).reshape(len(y_label), 1)\n",
    "\n",
    "train_x.shape, train_y.shape"
   ]
  },
  {
   "cell_type": "markdown",
   "metadata": {},
   "source": [
    "Define helping functions.\n",
    "\n",
    "* Sigmoid activation function\n",
    "* Accuracy calculation function"
   ]
  },
  {
   "cell_type": "code",
   "execution_count": 5,
   "metadata": {},
   "outputs": [],
   "source": [
    "def sigmoid(x):\n",
    "    return 1 / (1 + np.exp(-x))\n",
    "\n",
    "\n",
    "def accuracy(d: np.ndarray, y: np.ndarray, threshold=0.5):\n",
    "    def _l(e):\n",
    "        if e > threshold:\n",
    "            return 1\n",
    "        return 0\n",
    "    _d = np.array(list(map(_l, d))).reshape(y.shape)\n",
    "    return (y == _d).mean()\n"
   ]
  },
  {
   "cell_type": "markdown",
   "metadata": {},
   "source": [
    "We'll be using gradient descend for training theta weights\n"
   ]
  },
  {
   "cell_type": "code",
   "execution_count": 6,
   "metadata": {
    "collapsed": false
   },
   "outputs": [
    {
     "name": "stdout",
     "output_type": "stream",
     "text": [
      "Accuracy: 0.92\nTheta:\n[[-59.82632632]\n [  0.49799416]\n [  0.49088969]]\n"
     ]
    },
    {
     "data": {
      "text/plain": [
       "[<matplotlib.lines.Line2D at 0x7f61cbb34358>]"
      ]
     },
     "execution_count": 6,
     "metadata": {},
     "output_type": "execute_result"
    },
    {
     "data": {
      "image/png": "[encoded data removed]",
      "text/plain": [
       "<Figure size 432x288 with 1 Axes>"
      ]
     },
     "metadata": {},
     "output_type": "display_data"
    }
   ],
   "source": [
    "theta = np.random.uniform(-0.5, 0.5, size=(train_x.shape[1], 1))\n",
    "\n",
    "EPOCHS = 200_000\n",
    "EVERY = 5000\n",
    "\n",
    "accuracies = []\n",
    "\n",
    "learning_rate = 0.01\n",
    "m = len(train_y)\n",
    "\n",
    "for i in range(EPOCHS):\n",
    "    h = train_x.dot(theta)\n",
    "    a = sigmoid(h)\n",
    "\n",
    "    grad = train_x.T.dot(a - train_y)\n",
    "    theta -= learning_rate * grad / m\n",
    "    \n",
    "    if i % EVERY == 0:\n",
    "        accuracies.append(accuracy(sigmoid(train_x.dot(theta)), train_y))\n",
    "\n",
    "print(f\"Accuracy: {accuracy(sigmoid(train_x.dot(theta)), train_y)}\")\n",
    "print(\"Theta:\")\n",
    "print(theta)\n",
    "plt.plot(accuracies, marker='.', ms=15, lw=0)\n"
   ]
  },
  {
   "cell_type": "markdown",
   "metadata": {},
   "source": [
    "## Plotting the classification line\n",
    "\n",
    "The equation of separating hyperplane is\n",
    "\n",
    "$$h(x)=\\Theta_0 + \\Theta_1x_1 + \\Theta_2x_2$$\n",
    "\n",
    "From linear algebra and our smart brains we know that separation line will have equation\n",
    "\n",
    "$$x_2 = \\frac{-\\Theta_0 - \\Theta_1x_1}{\\Theta_2}$$"
   ]
  },
  {
   "cell_type": "code",
   "execution_count": 7,
   "metadata": {},
   "outputs": [
    {
     "data": {
      "text/plain": [
       "<matplotlib.legend.Legend at 0x7f61cbae7ac8>"
      ]
     },
     "execution_count": 7,
     "metadata": {},
     "output_type": "execute_result"
    },
    {
     "data": {
      "image/png": "[encoded data removed]",
      "text/plain": [
       "<Figure size 432x288 with 1 Axes>"
      ]
     },
     "metadata": {},
     "output_type": "display_data"
    }
   ],
   "source": [
    "plot_x1 = np.linspace(np.min(train_x[:, 1]) - 3, np.max(train_x[:, 1]) + 3, 50)\n",
    "plot_x2 = (-theta[0] - theta[1] * plot_x1) / theta[2]\n",
    "\n",
    "plt.scatter(admitted.iloc[:, 0], admitted.iloc[:, 1], s=10, label='Admitted')\n",
    "plt.scatter(not_admitted.iloc[:, 0], not_admitted.iloc[:, 1], s=10, label='Not Admitted')\n",
    "plt.plot(plot_x1, plot_x2)\n",
    "plt.legend()\n"
   ]
  },
  {
   "cell_type": "markdown",
   "metadata": {},
   "source": [
    "## Resources\n",
    "\n",
    "* [Building a Logistic Regression in Python](https://towardsdatascience.com/building-a-logistic-regression-in-python-301d27367c24)\n",
    "\n",
    "* [Logistic Regression from scratch in Python](https://medium.com/@martinpella/logistic-regression-from-scratch-in-python-124c5636b8ac)\n",
    "\n",
    "* [Shameless self-promotion](https://github.com/MikhailKravets/Spytnik) (but I really took some material from there)"
   ]
  },
  {
   "cell_type": "code",
   "execution_count": null,
   "metadata": {},
   "outputs": [],
   "source": []
  }
 ],
 "metadata": {
  "kernelspec": {
   "display_name": "Python 2",
   "language": "python",
   "name": "python2"
  },
  "language_info": {
   "codemirror_mode": {
    "name": "ipython",
    "version": 2
   },
   "file_extension": ".py",
   "mimetype": "text/x-python",
   "name": "python",
   "nbconvert_exporter": "python",
   "pygments_lexer": "ipython2",
   "version": "2.7.6"
  }
 },
 "nbformat": 4,
 "nbformat_minor": 0
}
